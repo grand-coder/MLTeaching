{
 "cells": [
  {
   "cell_type": "markdown",
   "metadata": {},
   "source": [
    "![](cover.png)\n",
    "\n",
    "# kMeans(分群)\n",
    "\n",
    "## 介紹\n",
    "\n",
    "kMeans跟之前介紹的決策樹和kNN有一個決定性的不同，就是他是一個非監督式演算法\n",
    "\n",
    "有時候我們的數據太大量了，又沒人可以幫忙填寫正確的標籤，我們就希望電腦可以自動的幫我把標籤算出來。\n",
    "\n",
    "你也可以想像成：非監督式學習就是讓電腦去判斷標籤的過程\n",
    "\n",
    "注意: 雖然他跟kNN都有個k，但實際的內容卻是完全不一樣的\n",
    "\n",
    "![](kmeans.png)\n",
    "\n",
    "\n",
    "## ✔ 理論基礎\n",
    "\n",
    "### KMeans\n",
    "\n",
    "k意味著在所有的資料裡選出k個質量中心，也就是以這k個質量中心分成k類，詳細步驟如下\n",
    "\n",
    "1. 隨機選擇k個點當中心\n",
    "\n",
    "2. 對於剩餘的點歸類到k類\n",
    "\n",
    "3. 對於分類好的資料再次選擇一次k個質量中心(讓質量中心更接近理想)\n",
    "\n",
    "4. 重複步驟2和3直到穩定\n",
    "\n",
    "### KMeans++\n",
    "\n",
    "你也發現了，我們的第一步驟，有可能選到非常爛的點當初始中心，那你就會花很多的步驟達到最後的穩定。\n",
    "\n",
    "所以後來的人做了個改進，就是在選初始k點的時候盡量選遠一點的！這就是kMeans++\n",
    "\n",
    "## ✔ k值的選擇\n",
    "\n",
    "k值的選擇總共有兩種方法，我們先介紹第一種方法，後續再用第二種方法比較\n",
    "\n",
    "第一種方法非常簡單，你想像成你已經知道數據有n類了(ex. 鳶尾花有三類)，只是沒有人幫你標注這些類別\n",
    "\n",
    "那毫無疑問的就是直接將k設定成你知道的n！"
   ]
  },
  {
   "cell_type": "markdown",
   "metadata": {},
   "source": [
    "## ✔ 開始撰寫程式\n",
    "\n",
    "### Step 0. 讀入我們的鳶尾花數據集作為練習\n",
    "\n",
    "這裡我們用鳶尾話數據集來做實驗，但在訓練模型的時候我當作完全沒有target這件事\n",
    "\n",
    "target只用來在最後我的分群完成以後偷偷來看一下分的好不好"
   ]
  },
  {
   "cell_type": "code",
   "execution_count": 1,
   "metadata": {},
   "outputs": [
    {
     "data": {
      "text/html": [
       "<div>\n",
       "<style scoped>\n",
       "    .dataframe tbody tr th:only-of-type {\n",
       "        vertical-align: middle;\n",
       "    }\n",
       "\n",
       "    .dataframe tbody tr th {\n",
       "        vertical-align: top;\n",
       "    }\n",
       "\n",
       "    .dataframe thead th {\n",
       "        text-align: right;\n",
       "    }\n",
       "</style>\n",
       "<table border=\"1\" class=\"dataframe\">\n",
       "  <thead>\n",
       "    <tr style=\"text-align: right;\">\n",
       "      <th></th>\n",
       "      <th>sepal length (cm)</th>\n",
       "      <th>sepal width (cm)</th>\n",
       "      <th>petal length (cm)</th>\n",
       "      <th>petal width (cm)</th>\n",
       "      <th>target</th>\n",
       "    </tr>\n",
       "  </thead>\n",
       "  <tbody>\n",
       "    <tr>\n",
       "      <th>0</th>\n",
       "      <td>5.1</td>\n",
       "      <td>3.5</td>\n",
       "      <td>1.4</td>\n",
       "      <td>0.2</td>\n",
       "      <td>0</td>\n",
       "    </tr>\n",
       "    <tr>\n",
       "      <th>1</th>\n",
       "      <td>4.9</td>\n",
       "      <td>3.0</td>\n",
       "      <td>1.4</td>\n",
       "      <td>0.2</td>\n",
       "      <td>0</td>\n",
       "    </tr>\n",
       "    <tr>\n",
       "      <th>2</th>\n",
       "      <td>4.7</td>\n",
       "      <td>3.2</td>\n",
       "      <td>1.3</td>\n",
       "      <td>0.2</td>\n",
       "      <td>0</td>\n",
       "    </tr>\n",
       "    <tr>\n",
       "      <th>3</th>\n",
       "      <td>4.6</td>\n",
       "      <td>3.1</td>\n",
       "      <td>1.5</td>\n",
       "      <td>0.2</td>\n",
       "      <td>0</td>\n",
       "    </tr>\n",
       "    <tr>\n",
       "      <th>4</th>\n",
       "      <td>5.0</td>\n",
       "      <td>3.6</td>\n",
       "      <td>1.4</td>\n",
       "      <td>0.2</td>\n",
       "      <td>0</td>\n",
       "    </tr>\n",
       "    <tr>\n",
       "      <th>5</th>\n",
       "      <td>5.4</td>\n",
       "      <td>3.9</td>\n",
       "      <td>1.7</td>\n",
       "      <td>0.4</td>\n",
       "      <td>0</td>\n",
       "    </tr>\n",
       "    <tr>\n",
       "      <th>6</th>\n",
       "      <td>4.6</td>\n",
       "      <td>3.4</td>\n",
       "      <td>1.4</td>\n",
       "      <td>0.3</td>\n",
       "      <td>0</td>\n",
       "    </tr>\n",
       "    <tr>\n",
       "      <th>...</th>\n",
       "      <td>...</td>\n",
       "      <td>...</td>\n",
       "      <td>...</td>\n",
       "      <td>...</td>\n",
       "      <td>...</td>\n",
       "    </tr>\n",
       "    <tr>\n",
       "      <th>143</th>\n",
       "      <td>6.8</td>\n",
       "      <td>3.2</td>\n",
       "      <td>5.9</td>\n",
       "      <td>2.3</td>\n",
       "      <td>2</td>\n",
       "    </tr>\n",
       "    <tr>\n",
       "      <th>144</th>\n",
       "      <td>6.7</td>\n",
       "      <td>3.3</td>\n",
       "      <td>5.7</td>\n",
       "      <td>2.5</td>\n",
       "      <td>2</td>\n",
       "    </tr>\n",
       "    <tr>\n",
       "      <th>145</th>\n",
       "      <td>6.7</td>\n",
       "      <td>3.0</td>\n",
       "      <td>5.2</td>\n",
       "      <td>2.3</td>\n",
       "      <td>2</td>\n",
       "    </tr>\n",
       "    <tr>\n",
       "      <th>146</th>\n",
       "      <td>6.3</td>\n",
       "      <td>2.5</td>\n",
       "      <td>5.0</td>\n",
       "      <td>1.9</td>\n",
       "      <td>2</td>\n",
       "    </tr>\n",
       "    <tr>\n",
       "      <th>147</th>\n",
       "      <td>6.5</td>\n",
       "      <td>3.0</td>\n",
       "      <td>5.2</td>\n",
       "      <td>2.0</td>\n",
       "      <td>2</td>\n",
       "    </tr>\n",
       "    <tr>\n",
       "      <th>148</th>\n",
       "      <td>6.2</td>\n",
       "      <td>3.4</td>\n",
       "      <td>5.4</td>\n",
       "      <td>2.3</td>\n",
       "      <td>2</td>\n",
       "    </tr>\n",
       "    <tr>\n",
       "      <th>149</th>\n",
       "      <td>5.9</td>\n",
       "      <td>3.0</td>\n",
       "      <td>5.1</td>\n",
       "      <td>1.8</td>\n",
       "      <td>2</td>\n",
       "    </tr>\n",
       "  </tbody>\n",
       "</table>\n",
       "<p>150 rows × 5 columns</p>\n",
       "</div>"
      ],
      "text/plain": [
       "     sepal length (cm)  sepal width (cm)  petal length (cm)  petal width (cm)  \\\n",
       "0                  5.1               3.5                1.4               0.2   \n",
       "1                  4.9               3.0                1.4               0.2   \n",
       "2                  4.7               3.2                1.3               0.2   \n",
       "3                  4.6               3.1                1.5               0.2   \n",
       "4                  5.0               3.6                1.4               0.2   \n",
       "5                  5.4               3.9                1.7               0.4   \n",
       "6                  4.6               3.4                1.4               0.3   \n",
       "..                 ...               ...                ...               ...   \n",
       "143                6.8               3.2                5.9               2.3   \n",
       "144                6.7               3.3                5.7               2.5   \n",
       "145                6.7               3.0                5.2               2.3   \n",
       "146                6.3               2.5                5.0               1.9   \n",
       "147                6.5               3.0                5.2               2.0   \n",
       "148                6.2               3.4                5.4               2.3   \n",
       "149                5.9               3.0                5.1               1.8   \n",
       "\n",
       "     target  \n",
       "0         0  \n",
       "1         0  \n",
       "2         0  \n",
       "3         0  \n",
       "4         0  \n",
       "5         0  \n",
       "6         0  \n",
       "..      ...  \n",
       "143       2  \n",
       "144       2  \n",
       "145       2  \n",
       "146       2  \n",
       "147       2  \n",
       "148       2  \n",
       "149       2  \n",
       "\n",
       "[150 rows x 5 columns]"
      ]
     },
     "execution_count": 1,
     "metadata": {},
     "output_type": "execute_result"
    }
   ],
   "source": [
    "from sklearn.datasets import load_iris\n",
    "import pandas as pd\n",
    "import matplotlib.pyplot as plt\n",
    "import seaborn as sns\n",
    "%matplotlib inline\n",
    "\n",
    "# 為了顯示的漂亮, 我刻意的把印出來的row只顯示15個和column只顯示十個, 大家練習的時候可以去掉下面兩行\n",
    "pd.set_option('display.max_rows', 15)\n",
    "pd.set_option('display.max_columns', 10)\n",
    "\n",
    "# 使用scikit-learn提供的鳶尾花資料庫\n",
    "iris = load_iris()\n",
    "df = pd.DataFrame(iris['data'], columns = iris['feature_names'])\n",
    "df[\"target\"] = iris[\"target\"]\n",
    "df"
   ]
  },
  {
   "cell_type": "markdown",
   "metadata": {},
   "source": [
    "### Step 1. (略過) 畫圖\n",
    "\n",
    "因為我們已經畫過很多次了，這次就先把heatmap略過，讀者可以自行練習一下！"
   ]
  },
  {
   "cell_type": "code",
   "execution_count": 2,
   "metadata": {},
   "outputs": [],
   "source": [
    "# 我們把我們擁有的資料集分成兩份, 一份測試, 一份訓練\n",
    "from sklearn.model_selection import train_test_split\n",
    "# 把資料分成兩部分(1. 訓練資料 2. 測試資料)\n",
    "data_train, data_test, target_train, target_test = train_test_split(iris['data'], \n",
    "                                                                    iris['target'], \n",
    "                                                                    test_size=0.1)"
   ]
  },
  {
   "cell_type": "markdown",
   "metadata": {},
   "source": [
    "### Step 2. 訓練模型\n",
    "\n",
    "我們使用kMeans來訓練\n",
    "\n",
    "1. 創好一個Cluster\n",
    "2. 使用fit將你要訓練的數據餵進來"
   ]
  },
  {
   "cell_type": "code",
   "execution_count": 3,
   "metadata": {},
   "outputs": [
    {
     "data": {
      "text/plain": [
       "KMeans(algorithm='auto', copy_x=True, init='k-means++', max_iter=300,\n",
       "    n_clusters=3, n_init=10, n_jobs=1, precompute_distances='auto',\n",
       "    random_state=None, tol=0.0001, verbose=0)"
      ]
     },
     "execution_count": 3,
     "metadata": {},
     "output_type": "execute_result"
    }
   ],
   "source": [
    "from sklearn.cluster import KMeans\n",
    "# 我事先已經有三類了, 只是別人沒有幫我標註\n",
    "# 所以這裡要注意！！我完全沒有帶入target喔\n",
    "clu = KMeans(n_clusters = 3)\n",
    "clu.fit(data_train)"
   ]
  },
  {
   "cell_type": "code",
   "execution_count": 4,
   "metadata": {},
   "outputs": [
    {
     "data": {
      "text/plain": [
       "array([2, 1, 2, 1, 1, 0, 1, 1, 2, 1, 0, 0, 1, 0, 0, 1, 0, 2, 2, 1, 0, 2, 1,\n",
       "       2, 1, 1, 0, 1, 2, 2, 1, 0, 1, 2, 1, 1, 1, 1, 1, 0, 2, 2, 2, 2, 2, 0,\n",
       "       1, 0, 1, 1, 0, 1, 1, 2, 0, 2, 0, 0, 0, 1, 2, 1, 1, 0, 2, 0, 0, 1, 1,\n",
       "       2, 1, 2, 1, 1, 1, 0, 2, 0, 1, 1, 1, 1, 2, 0, 1, 1, 1, 2, 1, 1, 1, 0,\n",
       "       0, 0, 1, 0, 1, 0, 1, 2, 0, 1, 1, 0, 0, 2, 0, 2, 2, 1, 0, 0, 2, 0, 0,\n",
       "       1, 1, 0, 0, 0, 0, 1, 1, 0, 2, 2, 2, 1, 0, 2, 1, 0, 1, 0, 0], dtype=int32)"
      ]
     },
     "execution_count": 4,
     "metadata": {},
     "output_type": "execute_result"
    }
   ],
   "source": [
    "# 我們大概可以看到資料已經被分成三類了\n",
    "clu.labels_"
   ]
  },
  {
   "cell_type": "code",
   "execution_count": 5,
   "metadata": {},
   "outputs": [
    {
     "name": "stdout",
     "output_type": "stream",
     "text": [
      "預測標籤: [0 1 0 2 2 1 1 2 0 1 0 2 1 2 0]\n",
      "正確標籤: [0 1 0 2 2 1 1 2 0 1 0 2 1 2 0]\n"
     ]
    }
   ],
   "source": [
    "from sklearn.metrics import accuracy_score\n",
    "\n",
    "predict = clu.predict(data_test)\n",
    "print(\"預測標籤:\", predict)\n",
    "print(\"正確標籤:\", target_test)"
   ]
  },
  {
   "cell_type": "markdown",
   "metadata": {},
   "source": [
    "你可以看到我們已經正確的預測了，不過這裡有時候要小心，因為我們沒有事先給標籤\n",
    "\n",
    "所以預測的1並不一定是正確標籤的1。你要稍微做個轉換再來對照"
   ]
  },
  {
   "cell_type": "markdown",
   "metadata": {},
   "source": [
    "## ✔ 不知道k的時候\n",
    "\n",
    "當我們連k都不知道的時候(ex. 分類人的性格，你不知道要分成幾種分類)\n",
    "\n",
    "我們只能一個一個開始試，不過我們有一個很好的方法可以幫我們測試選的k究竟好不好\n",
    "\n",
    "### Silhouette方法\n",
    "\n",
    "Silhouette是檢查一個點是不是分在最佳群的方法\n",
    "\n",
    "![](sihouette.png)\n",
    "\n",
    "***a是這個點離他所在群內的其他點的平均距離，b是這個點離他最鄰近的群的點的平均距離***\n",
    "\n",
    "這個值會在-1~1之間\n",
    "\n",
    "算出來的值越大，代表這個k的選擇越好，我們只看上面的 1 - a/b，這東西要是1的話，a必須為0，也就是這個群根本就完美的聚集在一個點上\n",
    "\n",
    "所以簡單來說，我們希望每一個點離他所在的群越近，離另外的群越遠，就是最棒的分類"
   ]
  },
  {
   "cell_type": "code",
   "execution_count": 9,
   "metadata": {},
   "outputs": [
    {
     "name": "stdout",
     "output_type": "stream",
     "text": [
      "分數: [0.68081362027135084, 0.55259194452136762, 0.49699284994925963, 0.48851755085386322, 0.3665040147525056, 0.35087596034100871]\n",
      "K值: [2, 3, 4, 5, 6, 7]\n"
     ]
    },
    {
     "data": {
      "text/plain": [
       "[<matplotlib.lines.Line2D at 0x10bd148d0>]"
      ]
     },
     "execution_count": 9,
     "metadata": {},
     "output_type": "execute_result"
    },
    {
     "data": {
      "image/png": "[encoded data removed]",
      "text/plain": [
       "<matplotlib.figure.Figure at 0x1048cfb00>"
      ]
     },
     "metadata": {},
     "output_type": "display_data"
    }
   ],
   "source": [
    "from sklearn.metrics import silhouette_score\n",
    "import matplotlib.pyplot as plt\n",
    "%matplotlib inline\n",
    "\n",
    "scores = []\n",
    "ks = []\n",
    "\n",
    "for i in range(2, 8):\n",
    "    clu = KMeans(n_clusters = i)\n",
    "    clu.fit(iris['data'])\n",
    "    clu_score = silhouette_score(iris['data'], clu.labels_)\n",
    "    scores.append(clu_score)\n",
    "    ks.append(i)\n",
    "\n",
    "print(\"分數:\", scores)\n",
    "print(\"K值:\", ks)\n",
    "plt.plot(scores, ks)\n"
   ]
  },
  {
   "cell_type": "markdown",
   "metadata": {},
   "source": [
    "你可以看到，大概只有k = 2和k = 3的時候是一個合理的選擇，符合我們所知道的！\n",
    "\n",
    "總共有三類的鳶尾花，那2為什麼也有很高的score呢？我們可以合理的推測其實這三類有兩類是很像的！"
   ]
  }
 ],
 "metadata": {
  "kernelspec": {
   "display_name": "py36default",
   "language": "python",
   "name": "py36default"
  },
  "language_info": {
   "codemirror_mode": {
    "name": "ipython",
    "version": 3
   },
   "file_extension": ".py",
   "mimetype": "text/x-python",
   "name": "python",
   "nbconvert_exporter": "python",
   "pygments_lexer": "ipython3",
   "version": "3.6.0"
  }
 },
 "nbformat": 4,
 "nbformat_minor": 2
}
